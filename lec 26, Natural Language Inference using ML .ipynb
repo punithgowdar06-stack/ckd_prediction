{
 "cells": [
  {
   "cell_type": "markdown",
   "id": "923176af",
   "metadata": {},
   "source": [
    "# Load Dataset"
   ]
  },
  {
   "cell_type": "code",
   "execution_count": 2,
   "id": "f972d662",
   "metadata": {},
   "outputs": [
    {
     "data": {
      "text/html": [
       "<div>\n",
       "<style scoped>\n",
       "    .dataframe tbody tr th:only-of-type {\n",
       "        vertical-align: middle;\n",
       "    }\n",
       "\n",
       "    .dataframe tbody tr th {\n",
       "        vertical-align: top;\n",
       "    }\n",
       "\n",
       "    .dataframe thead th {\n",
       "        text-align: right;\n",
       "    }\n",
       "</style>\n",
       "<table border=\"1\" class=\"dataframe\">\n",
       "  <thead>\n",
       "    <tr style=\"text-align: right;\">\n",
       "      <th></th>\n",
       "      <th>sentence1</th>\n",
       "      <th>sentence2</th>\n",
       "      <th>label1</th>\n",
       "    </tr>\n",
       "  </thead>\n",
       "  <tbody>\n",
       "    <tr>\n",
       "      <th>0</th>\n",
       "      <td>A person on a horse jumps over a broken down a...</td>\n",
       "      <td>A person is training his horse for a competition.</td>\n",
       "      <td>neutral</td>\n",
       "    </tr>\n",
       "    <tr>\n",
       "      <th>1</th>\n",
       "      <td>A person on a horse jumps over a broken down a...</td>\n",
       "      <td>A person is at a diner, ordering an omelette.</td>\n",
       "      <td>contradiction</td>\n",
       "    </tr>\n",
       "    <tr>\n",
       "      <th>2</th>\n",
       "      <td>A person on a horse jumps over a broken down a...</td>\n",
       "      <td>A person is outdoors, on a horse.</td>\n",
       "      <td>entailment</td>\n",
       "    </tr>\n",
       "    <tr>\n",
       "      <th>3</th>\n",
       "      <td>Children smiling and waving at camera</td>\n",
       "      <td>They are smiling at their parents</td>\n",
       "      <td>neutral</td>\n",
       "    </tr>\n",
       "    <tr>\n",
       "      <th>4</th>\n",
       "      <td>Children smiling and waving at camera</td>\n",
       "      <td>There are children present</td>\n",
       "      <td>entailment</td>\n",
       "    </tr>\n",
       "    <tr>\n",
       "      <th>...</th>\n",
       "      <td>...</td>\n",
       "      <td>...</td>\n",
       "      <td>...</td>\n",
       "    </tr>\n",
       "    <tr>\n",
       "      <th>550147</th>\n",
       "      <td>Four dirty and barefooted children.</td>\n",
       "      <td>four kids won awards for 'cleanest feet'</td>\n",
       "      <td>contradiction</td>\n",
       "    </tr>\n",
       "    <tr>\n",
       "      <th>550148</th>\n",
       "      <td>Four dirty and barefooted children.</td>\n",
       "      <td>four homeless children had their shoes stolen,...</td>\n",
       "      <td>neutral</td>\n",
       "    </tr>\n",
       "    <tr>\n",
       "      <th>550149</th>\n",
       "      <td>A man is surfing in a bodysuit in beautiful bl...</td>\n",
       "      <td>A man in a bodysuit is competing in a surfing ...</td>\n",
       "      <td>neutral</td>\n",
       "    </tr>\n",
       "    <tr>\n",
       "      <th>550150</th>\n",
       "      <td>A man is surfing in a bodysuit in beautiful bl...</td>\n",
       "      <td>A man in a business suit is heading to a board...</td>\n",
       "      <td>contradiction</td>\n",
       "    </tr>\n",
       "    <tr>\n",
       "      <th>550151</th>\n",
       "      <td>A man is surfing in a bodysuit in beautiful bl...</td>\n",
       "      <td>On the beautiful blue water there is a man in ...</td>\n",
       "      <td>entailment</td>\n",
       "    </tr>\n",
       "  </tbody>\n",
       "</table>\n",
       "<p>550152 rows × 3 columns</p>\n",
       "</div>"
      ],
      "text/plain": [
       "                                                sentence1  \\\n",
       "0       A person on a horse jumps over a broken down a...   \n",
       "1       A person on a horse jumps over a broken down a...   \n",
       "2       A person on a horse jumps over a broken down a...   \n",
       "3                   Children smiling and waving at camera   \n",
       "4                   Children smiling and waving at camera   \n",
       "...                                                   ...   \n",
       "550147                Four dirty and barefooted children.   \n",
       "550148                Four dirty and barefooted children.   \n",
       "550149  A man is surfing in a bodysuit in beautiful bl...   \n",
       "550150  A man is surfing in a bodysuit in beautiful bl...   \n",
       "550151  A man is surfing in a bodysuit in beautiful bl...   \n",
       "\n",
       "                                                sentence2         label1  \n",
       "0       A person is training his horse for a competition.        neutral  \n",
       "1           A person is at a diner, ordering an omelette.  contradiction  \n",
       "2                       A person is outdoors, on a horse.     entailment  \n",
       "3                       They are smiling at their parents        neutral  \n",
       "4                              There are children present     entailment  \n",
       "...                                                   ...            ...  \n",
       "550147           four kids won awards for 'cleanest feet'  contradiction  \n",
       "550148  four homeless children had their shoes stolen,...        neutral  \n",
       "550149  A man in a bodysuit is competing in a surfing ...        neutral  \n",
       "550150  A man in a business suit is heading to a board...  contradiction  \n",
       "550151  On the beautiful blue water there is a man in ...     entailment  \n",
       "\n",
       "[550152 rows x 3 columns]"
      ]
     },
     "execution_count": 2,
     "metadata": {},
     "output_type": "execute_result"
    }
   ],
   "source": [
    "import pandas as pd \n",
    "\n",
    "df = pd.read_csv(\"snli_1.0_train.csv\")\n",
    "\n",
    "df = df[['sentence1','sentence2','label1']]\n",
    "df"
   ]
  },
  {
   "cell_type": "code",
   "execution_count": 3,
   "id": "08f552eb",
   "metadata": {},
   "outputs": [
    {
     "data": {
      "text/html": [
       "<div>\n",
       "<style scoped>\n",
       "    .dataframe tbody tr th:only-of-type {\n",
       "        vertical-align: middle;\n",
       "    }\n",
       "\n",
       "    .dataframe tbody tr th {\n",
       "        vertical-align: top;\n",
       "    }\n",
       "\n",
       "    .dataframe thead th {\n",
       "        text-align: right;\n",
       "    }\n",
       "</style>\n",
       "<table border=\"1\" class=\"dataframe\">\n",
       "  <thead>\n",
       "    <tr style=\"text-align: right;\">\n",
       "      <th></th>\n",
       "      <th>sentence1</th>\n",
       "      <th>sentence2</th>\n",
       "      <th>label1</th>\n",
       "    </tr>\n",
       "  </thead>\n",
       "  <tbody>\n",
       "    <tr>\n",
       "      <th>0</th>\n",
       "      <td>An older gentleman in an orange jumpsuit and g...</td>\n",
       "      <td>A man is cleaning up around his house.</td>\n",
       "      <td>neutral</td>\n",
       "    </tr>\n",
       "    <tr>\n",
       "      <th>1</th>\n",
       "      <td>Boy and girl running along the beach.</td>\n",
       "      <td>Two people run on the beach.</td>\n",
       "      <td>entailment</td>\n",
       "    </tr>\n",
       "    <tr>\n",
       "      <th>2</th>\n",
       "      <td>Four men do repair work on a roof.</td>\n",
       "      <td>Four men work with tools.</td>\n",
       "      <td>entailment</td>\n",
       "    </tr>\n",
       "    <tr>\n",
       "      <th>3</th>\n",
       "      <td>A long-haired young man skateboarding on the r...</td>\n",
       "      <td>A girl is riding a bike.</td>\n",
       "      <td>contradiction</td>\n",
       "    </tr>\n",
       "    <tr>\n",
       "      <th>4</th>\n",
       "      <td>A band performs on stage.</td>\n",
       "      <td>People are listening to a rock concert.</td>\n",
       "      <td>neutral</td>\n",
       "    </tr>\n",
       "    <tr>\n",
       "      <th>...</th>\n",
       "      <td>...</td>\n",
       "      <td>...</td>\n",
       "      <td>...</td>\n",
       "    </tr>\n",
       "    <tr>\n",
       "      <th>4995</th>\n",
       "      <td>An older gentleman holding a can of coke and a...</td>\n",
       "      <td>The older man is holding a glass of beer.</td>\n",
       "      <td>contradiction</td>\n",
       "    </tr>\n",
       "    <tr>\n",
       "      <th>4996</th>\n",
       "      <td>The gutarist upfront is under a spotlight, and...</td>\n",
       "      <td>A man is singing on stage alone.</td>\n",
       "      <td>contradiction</td>\n",
       "    </tr>\n",
       "    <tr>\n",
       "      <th>4997</th>\n",
       "      <td>A boy in a white t-shirt does skateboard tricks.</td>\n",
       "      <td>A boy is in a skateboard tournament.</td>\n",
       "      <td>neutral</td>\n",
       "    </tr>\n",
       "    <tr>\n",
       "      <th>4998</th>\n",
       "      <td>Two men are driving in opposite directions on ...</td>\n",
       "      <td>The two men are sitting on the ground.</td>\n",
       "      <td>contradiction</td>\n",
       "    </tr>\n",
       "    <tr>\n",
       "      <th>4999</th>\n",
       "      <td>A worker begins to make renovations to the out...</td>\n",
       "      <td>The worker is doing construction</td>\n",
       "      <td>entailment</td>\n",
       "    </tr>\n",
       "  </tbody>\n",
       "</table>\n",
       "<p>5000 rows × 3 columns</p>\n",
       "</div>"
      ],
      "text/plain": [
       "                                              sentence1  \\\n",
       "0     An older gentleman in an orange jumpsuit and g...   \n",
       "1                 Boy and girl running along the beach.   \n",
       "2                    Four men do repair work on a roof.   \n",
       "3     A long-haired young man skateboarding on the r...   \n",
       "4                             A band performs on stage.   \n",
       "...                                                 ...   \n",
       "4995  An older gentleman holding a can of coke and a...   \n",
       "4996  The gutarist upfront is under a spotlight, and...   \n",
       "4997   A boy in a white t-shirt does skateboard tricks.   \n",
       "4998  Two men are driving in opposite directions on ...   \n",
       "4999  A worker begins to make renovations to the out...   \n",
       "\n",
       "                                      sentence2         label1  \n",
       "0        A man is cleaning up around his house.        neutral  \n",
       "1                  Two people run on the beach.     entailment  \n",
       "2                     Four men work with tools.     entailment  \n",
       "3                      A girl is riding a bike.  contradiction  \n",
       "4       People are listening to a rock concert.        neutral  \n",
       "...                                         ...            ...  \n",
       "4995  The older man is holding a glass of beer.  contradiction  \n",
       "4996           A man is singing on stage alone.  contradiction  \n",
       "4997       A boy is in a skateboard tournament.        neutral  \n",
       "4998     The two men are sitting on the ground.  contradiction  \n",
       "4999           The worker is doing construction     entailment  \n",
       "\n",
       "[5000 rows x 3 columns]"
      ]
     },
     "execution_count": 3,
     "metadata": {},
     "output_type": "execute_result"
    }
   ],
   "source": [
    "df = df.sample(n=5000, random_state=42).reset_index(drop=True)\n",
    "df"
   ]
  },
  {
   "cell_type": "markdown",
   "id": "56a6ffcf",
   "metadata": {},
   "source": [
    "# Data Cleaning"
   ]
  },
  {
   "cell_type": "code",
   "execution_count": 4,
   "id": "73d7b817",
   "metadata": {},
   "outputs": [],
   "source": [
    "from sklearn.feature_extraction.text import ENGLISH_STOP_WORDS\n",
    "\n",
    "\n",
    "# Apply lowercasing using lambda\n",
    "df['sentence1'] = df['sentence1'].apply(lambda x: x.lower())\n",
    "df['sentence2'] = df['sentence2'].apply(lambda x: x.lower())\n",
    "\n",
    "# Remove stop words using lambda\n",
    "df['sentence1'] = df['sentence1'].apply(lambda x: ' '.join([word for word in x.split() if word not in ENGLISH_STOP_WORDS]))\n",
    "df['sentence2'] = df['sentence2'].apply(lambda x: ' '.join([word for word in x.split() if word not in ENGLISH_STOP_WORDS]))\n"
   ]
  },
  {
   "cell_type": "code",
   "execution_count": 5,
   "id": "db1167e8",
   "metadata": {},
   "outputs": [
    {
     "data": {
      "text/html": [
       "<div>\n",
       "<style scoped>\n",
       "    .dataframe tbody tr th:only-of-type {\n",
       "        vertical-align: middle;\n",
       "    }\n",
       "\n",
       "    .dataframe tbody tr th {\n",
       "        vertical-align: top;\n",
       "    }\n",
       "\n",
       "    .dataframe thead th {\n",
       "        text-align: right;\n",
       "    }\n",
       "</style>\n",
       "<table border=\"1\" class=\"dataframe\">\n",
       "  <thead>\n",
       "    <tr style=\"text-align: right;\">\n",
       "      <th></th>\n",
       "      <th>sentence1</th>\n",
       "      <th>sentence2</th>\n",
       "      <th>label1</th>\n",
       "    </tr>\n",
       "  </thead>\n",
       "  <tbody>\n",
       "    <tr>\n",
       "      <th>0</th>\n",
       "      <td>older gentleman orange jumpsuit gray hat curb ...</td>\n",
       "      <td>man cleaning house.</td>\n",
       "      <td>neutral</td>\n",
       "    </tr>\n",
       "    <tr>\n",
       "      <th>1</th>\n",
       "      <td>boy girl running beach.</td>\n",
       "      <td>people run beach.</td>\n",
       "      <td>entailment</td>\n",
       "    </tr>\n",
       "    <tr>\n",
       "      <th>2</th>\n",
       "      <td>men repair work roof.</td>\n",
       "      <td>men work tools.</td>\n",
       "      <td>entailment</td>\n",
       "    </tr>\n",
       "    <tr>\n",
       "      <th>3</th>\n",
       "      <td>long-haired young man skateboarding rails clou...</td>\n",
       "      <td>girl riding bike.</td>\n",
       "      <td>contradiction</td>\n",
       "    </tr>\n",
       "    <tr>\n",
       "      <th>4</th>\n",
       "      <td>band performs stage.</td>\n",
       "      <td>people listening rock concert.</td>\n",
       "      <td>neutral</td>\n",
       "    </tr>\n",
       "    <tr>\n",
       "      <th>...</th>\n",
       "      <td>...</td>\n",
       "      <td>...</td>\n",
       "      <td>...</td>\n",
       "    </tr>\n",
       "    <tr>\n",
       "      <th>4995</th>\n",
       "      <td>older gentleman holding coke young boy sort ma...</td>\n",
       "      <td>older man holding glass beer.</td>\n",
       "      <td>contradiction</td>\n",
       "    </tr>\n",
       "    <tr>\n",
       "      <th>4996</th>\n",
       "      <td>gutarist upfront spotlight, drummer too.</td>\n",
       "      <td>man singing stage alone.</td>\n",
       "      <td>contradiction</td>\n",
       "    </tr>\n",
       "    <tr>\n",
       "      <th>4997</th>\n",
       "      <td>boy white t-shirt does skateboard tricks.</td>\n",
       "      <td>boy skateboard tournament.</td>\n",
       "      <td>neutral</td>\n",
       "    </tr>\n",
       "    <tr>\n",
       "      <th>4998</th>\n",
       "      <td>men driving opposite directions motorbikes man...</td>\n",
       "      <td>men sitting ground.</td>\n",
       "      <td>contradiction</td>\n",
       "    </tr>\n",
       "    <tr>\n",
       "      <th>4999</th>\n",
       "      <td>worker begins make renovations outside building.</td>\n",
       "      <td>worker doing construction</td>\n",
       "      <td>entailment</td>\n",
       "    </tr>\n",
       "  </tbody>\n",
       "</table>\n",
       "<p>5000 rows × 3 columns</p>\n",
       "</div>"
      ],
      "text/plain": [
       "                                              sentence1  \\\n",
       "0     older gentleman orange jumpsuit gray hat curb ...   \n",
       "1                               boy girl running beach.   \n",
       "2                                 men repair work roof.   \n",
       "3     long-haired young man skateboarding rails clou...   \n",
       "4                                  band performs stage.   \n",
       "...                                                 ...   \n",
       "4995  older gentleman holding coke young boy sort ma...   \n",
       "4996           gutarist upfront spotlight, drummer too.   \n",
       "4997          boy white t-shirt does skateboard tricks.   \n",
       "4998  men driving opposite directions motorbikes man...   \n",
       "4999   worker begins make renovations outside building.   \n",
       "\n",
       "                           sentence2         label1  \n",
       "0                man cleaning house.        neutral  \n",
       "1                  people run beach.     entailment  \n",
       "2                    men work tools.     entailment  \n",
       "3                  girl riding bike.  contradiction  \n",
       "4     people listening rock concert.        neutral  \n",
       "...                              ...            ...  \n",
       "4995   older man holding glass beer.  contradiction  \n",
       "4996        man singing stage alone.  contradiction  \n",
       "4997      boy skateboard tournament.        neutral  \n",
       "4998             men sitting ground.  contradiction  \n",
       "4999       worker doing construction     entailment  \n",
       "\n",
       "[5000 rows x 3 columns]"
      ]
     },
     "execution_count": 5,
     "metadata": {},
     "output_type": "execute_result"
    }
   ],
   "source": [
    "df"
   ]
  },
  {
   "cell_type": "code",
   "execution_count": 6,
   "id": "1e060ba7",
   "metadata": {},
   "outputs": [
    {
     "name": "stderr",
     "output_type": "stream",
     "text": [
      "C:\\Users\\Noor Saeed\\AppData\\Local\\Temp\\ipykernel_9908\\2452468538.py:3: SettingWithCopyWarning: \n",
      "A value is trying to be set on a copy of a slice from a DataFrame.\n",
      "Try using .loc[row_indexer,col_indexer] = value instead\n",
      "\n",
      "See the caveats in the documentation: https://pandas.pydata.org/pandas-docs/stable/user_guide/indexing.html#returning-a-view-versus-a-copy\n",
      "  df['input'] = df['sentence1'] + \" \" + df['sentence2']\n"
     ]
    },
    {
     "data": {
      "text/html": [
       "<div>\n",
       "<style scoped>\n",
       "    .dataframe tbody tr th:only-of-type {\n",
       "        vertical-align: middle;\n",
       "    }\n",
       "\n",
       "    .dataframe tbody tr th {\n",
       "        vertical-align: top;\n",
       "    }\n",
       "\n",
       "    .dataframe thead th {\n",
       "        text-align: right;\n",
       "    }\n",
       "</style>\n",
       "<table border=\"1\" class=\"dataframe\">\n",
       "  <thead>\n",
       "    <tr style=\"text-align: right;\">\n",
       "      <th></th>\n",
       "      <th>sentence1</th>\n",
       "      <th>sentence2</th>\n",
       "      <th>label1</th>\n",
       "      <th>input</th>\n",
       "    </tr>\n",
       "  </thead>\n",
       "  <tbody>\n",
       "    <tr>\n",
       "      <th>1</th>\n",
       "      <td>boy girl running beach.</td>\n",
       "      <td>people run beach.</td>\n",
       "      <td>entailment</td>\n",
       "      <td>boy girl running beach. people run beach.</td>\n",
       "    </tr>\n",
       "    <tr>\n",
       "      <th>2</th>\n",
       "      <td>men repair work roof.</td>\n",
       "      <td>men work tools.</td>\n",
       "      <td>entailment</td>\n",
       "      <td>men repair work roof. men work tools.</td>\n",
       "    </tr>\n",
       "    <tr>\n",
       "      <th>3</th>\n",
       "      <td>long-haired young man skateboarding rails clou...</td>\n",
       "      <td>girl riding bike.</td>\n",
       "      <td>contradiction</td>\n",
       "      <td>long-haired young man skateboarding rails clou...</td>\n",
       "    </tr>\n",
       "    <tr>\n",
       "      <th>7</th>\n",
       "      <td>hispanic ladies wearing bright clothing crossi...</td>\n",
       "      <td>people female.</td>\n",
       "      <td>entailment</td>\n",
       "      <td>hispanic ladies wearing bright clothing crossi...</td>\n",
       "    </tr>\n",
       "    <tr>\n",
       "      <th>8</th>\n",
       "      <td>young boy stands golf mat city horizon, golf c...</td>\n",
       "      <td>boy just swung golf club goft course.</td>\n",
       "      <td>entailment</td>\n",
       "      <td>young boy stands golf mat city horizon, golf c...</td>\n",
       "    </tr>\n",
       "    <tr>\n",
       "      <th>...</th>\n",
       "      <td>...</td>\n",
       "      <td>...</td>\n",
       "      <td>...</td>\n",
       "      <td>...</td>\n",
       "    </tr>\n",
       "    <tr>\n",
       "      <th>4994</th>\n",
       "      <td>police horseback outside protest.</td>\n",
       "      <td>police sitting horses outdoors.</td>\n",
       "      <td>entailment</td>\n",
       "      <td>police horseback outside protest. police sitti...</td>\n",
       "    </tr>\n",
       "    <tr>\n",
       "      <th>4995</th>\n",
       "      <td>older gentleman holding coke young boy sort ma...</td>\n",
       "      <td>older man holding glass beer.</td>\n",
       "      <td>contradiction</td>\n",
       "      <td>older gentleman holding coke young boy sort ma...</td>\n",
       "    </tr>\n",
       "    <tr>\n",
       "      <th>4996</th>\n",
       "      <td>gutarist upfront spotlight, drummer too.</td>\n",
       "      <td>man singing stage alone.</td>\n",
       "      <td>contradiction</td>\n",
       "      <td>gutarist upfront spotlight, drummer too. man s...</td>\n",
       "    </tr>\n",
       "    <tr>\n",
       "      <th>4998</th>\n",
       "      <td>men driving opposite directions motorbikes man...</td>\n",
       "      <td>men sitting ground.</td>\n",
       "      <td>contradiction</td>\n",
       "      <td>men driving opposite directions motorbikes man...</td>\n",
       "    </tr>\n",
       "    <tr>\n",
       "      <th>4999</th>\n",
       "      <td>worker begins make renovations outside building.</td>\n",
       "      <td>worker doing construction</td>\n",
       "      <td>entailment</td>\n",
       "      <td>worker begins make renovations outside buildin...</td>\n",
       "    </tr>\n",
       "  </tbody>\n",
       "</table>\n",
       "<p>3375 rows × 4 columns</p>\n",
       "</div>"
      ],
      "text/plain": [
       "                                              sentence1  \\\n",
       "1                               boy girl running beach.   \n",
       "2                                 men repair work roof.   \n",
       "3     long-haired young man skateboarding rails clou...   \n",
       "7     hispanic ladies wearing bright clothing crossi...   \n",
       "8     young boy stands golf mat city horizon, golf c...   \n",
       "...                                                 ...   \n",
       "4994                  police horseback outside protest.   \n",
       "4995  older gentleman holding coke young boy sort ma...   \n",
       "4996           gutarist upfront spotlight, drummer too.   \n",
       "4998  men driving opposite directions motorbikes man...   \n",
       "4999   worker begins make renovations outside building.   \n",
       "\n",
       "                                  sentence2         label1  \\\n",
       "1                         people run beach.     entailment   \n",
       "2                           men work tools.     entailment   \n",
       "3                         girl riding bike.  contradiction   \n",
       "7                            people female.     entailment   \n",
       "8     boy just swung golf club goft course.     entailment   \n",
       "...                                     ...            ...   \n",
       "4994        police sitting horses outdoors.     entailment   \n",
       "4995          older man holding glass beer.  contradiction   \n",
       "4996               man singing stage alone.  contradiction   \n",
       "4998                    men sitting ground.  contradiction   \n",
       "4999              worker doing construction     entailment   \n",
       "\n",
       "                                                  input  \n",
       "1             boy girl running beach. people run beach.  \n",
       "2                 men repair work roof. men work tools.  \n",
       "3     long-haired young man skateboarding rails clou...  \n",
       "7     hispanic ladies wearing bright clothing crossi...  \n",
       "8     young boy stands golf mat city horizon, golf c...  \n",
       "...                                                 ...  \n",
       "4994  police horseback outside protest. police sitti...  \n",
       "4995  older gentleman holding coke young boy sort ma...  \n",
       "4996  gutarist upfront spotlight, drummer too. man s...  \n",
       "4998  men driving opposite directions motorbikes man...  \n",
       "4999  worker begins make renovations outside buildin...  \n",
       "\n",
       "[3375 rows x 4 columns]"
      ]
     },
     "execution_count": 6,
     "metadata": {},
     "output_type": "execute_result"
    }
   ],
   "source": [
    "df = df[df['label1'] != 'neutral']\n",
    "\n",
    "df['input'] = df['sentence1'] + \" \" + df['sentence2']\n",
    "\n",
    "df"
   ]
  },
  {
   "cell_type": "markdown",
   "id": "1987b01b",
   "metadata": {},
   "source": [
    "# Train Test Split"
   ]
  },
  {
   "cell_type": "code",
   "execution_count": 7,
   "id": "63b5daa3",
   "metadata": {},
   "outputs": [],
   "source": [
    "from sklearn.model_selection import train_test_split\n",
    "\n",
    "\n",
    "X = df[['input']]\n",
    "y = df['label1']\n",
    "\n",
    "# Split the data (80% train, 20% test)\n",
    "X_train, X_test, y_train, y_test = train_test_split(X, y, test_size=0.2, random_state=42, stratify=y)\n"
   ]
  },
  {
   "cell_type": "markdown",
   "id": "a2d04418",
   "metadata": {},
   "source": [
    "# Text Vectorization"
   ]
  },
  {
   "cell_type": "code",
   "execution_count": 8,
   "id": "354a26bd",
   "metadata": {},
   "outputs": [],
   "source": [
    "from sklearn.feature_extraction.text import TfidfVectorizer\n",
    "\n",
    "\n",
    "# Initialize TF-IDF Vectorizer\n",
    "tfidf = TfidfVectorizer()\n",
    "\n",
    "# Fit and transform the training data, then transform the test data\n",
    "X_train_tfidf = tfidf.fit_transform(X_train['input'])\n",
    "X_test_tfidf = tfidf.transform(X_test['input'])"
   ]
  },
  {
   "cell_type": "markdown",
   "id": "6248f617",
   "metadata": {},
   "source": [
    "# Train and Eval ML Models"
   ]
  },
  {
   "cell_type": "code",
   "execution_count": 9,
   "id": "ac88fa40",
   "metadata": {},
   "outputs": [
    {
     "name": "stdout",
     "output_type": "stream",
     "text": [
      "Training Logistic Regression...\n",
      "Classification Report for Logistic Regression:\n",
      "\n",
      "               precision    recall  f1-score   support\n",
      "\n",
      "contradiction       0.61      0.64      0.63       347\n",
      "   entailment       0.60      0.56      0.58       328\n",
      "\n",
      "     accuracy                           0.60       675\n",
      "    macro avg       0.60      0.60      0.60       675\n",
      " weighted avg       0.60      0.60      0.60       675\n",
      "\n",
      "Confusion Matrix for Logistic Regression:\n",
      "\n",
      "[[223 124]\n",
      " [143 185]]\n"
     ]
    },
    {
     "data": {
      "image/png": "[encoded data removed]",
      "text/plain": [
       "<Figure size 576x432 with 2 Axes>"
      ]
     },
     "metadata": {
      "needs_background": "light"
     },
     "output_type": "display_data"
    },
    {
     "name": "stdout",
     "output_type": "stream",
     "text": [
      "==================================================\n",
      "Training Random Forest...\n",
      "Classification Report for Random Forest:\n",
      "\n",
      "               precision    recall  f1-score   support\n",
      "\n",
      "contradiction       0.64      0.55      0.59       347\n",
      "   entailment       0.59      0.67      0.63       328\n",
      "\n",
      "     accuracy                           0.61       675\n",
      "    macro avg       0.61      0.61      0.61       675\n",
      " weighted avg       0.62      0.61      0.61       675\n",
      "\n",
      "Confusion Matrix for Random Forest:\n",
      "\n",
      "[[192 155]\n",
      " [107 221]]\n"
     ]
    },
    {
     "data": {
      "image/png": "[encoded data removed]",
      "text/plain": [
       "<Figure size 576x432 with 2 Axes>"
      ]
     },
     "metadata": {
      "needs_background": "light"
     },
     "output_type": "display_data"
    },
    {
     "name": "stdout",
     "output_type": "stream",
     "text": [
      "==================================================\n",
      "Training SVM...\n",
      "Classification Report for SVM:\n",
      "\n",
      "               precision    recall  f1-score   support\n",
      "\n",
      "contradiction       0.60      0.62      0.61       347\n",
      "   entailment       0.59      0.56      0.57       328\n",
      "\n",
      "     accuracy                           0.59       675\n",
      "    macro avg       0.59      0.59      0.59       675\n",
      " weighted avg       0.59      0.59      0.59       675\n",
      "\n",
      "Confusion Matrix for SVM:\n",
      "\n",
      "[[216 131]\n",
      " [143 185]]\n"
     ]
    },
    {
     "data": {
      "image/png": "[encoded data removed]",
      "text/plain": [
       "<Figure size 576x432 with 2 Axes>"
      ]
     },
     "metadata": {
      "needs_background": "light"
     },
     "output_type": "display_data"
    },
    {
     "name": "stdout",
     "output_type": "stream",
     "text": [
      "==================================================\n"
     ]
    }
   ],
   "source": [
    "from sklearn.linear_model import LogisticRegression\n",
    "from sklearn.ensemble import RandomForestClassifier\n",
    "from sklearn.svm import SVC\n",
    "from sklearn.metrics import classification_report, confusion_matrix\n",
    "import seaborn as sns\n",
    "import matplotlib.pyplot as plt\n",
    "\n",
    "# Initialize models\n",
    "models = [\n",
    "    ('Logistic Regression', LogisticRegression()),\n",
    "    ('Random Forest', RandomForestClassifier()),\n",
    "    ('SVM', SVC(kernel='linear'))\n",
    "]\n",
    "\n",
    "# Loop through models, train them, and print classification reports and confusion matrices\n",
    "for name, model in models:\n",
    "    print(f\"Training {name}...\")\n",
    "\n",
    "    # Train the model\n",
    "    model.fit(X_train_tfidf, y_train)\n",
    "    \n",
    "    # Make predictions\n",
    "    y_pred = model.predict(X_test_tfidf)\n",
    "    \n",
    "    # Print classification report\n",
    "    print(f\"Classification Report for {name}:\\n\")\n",
    "    print(classification_report(y_test, y_pred))\n",
    "    \n",
    "    # Print confusion matrix\n",
    "    print(f\"Confusion Matrix for {name}:\\n\")\n",
    "    cm = confusion_matrix(y_test, y_pred)\n",
    "    print(cm)\n",
    "\n",
    "    # Plot Confusion Matrix using seaborn\n",
    "    plt.figure(figsize=(8, 6))\n",
    "    sns.heatmap(cm, annot=True, fmt='d', cmap='Blues', xticklabels=model.classes_, yticklabels=model.classes_)\n",
    "    plt.title(f\"Confusion Matrix: {name}\")\n",
    "    plt.xlabel('Predicted')\n",
    "    plt.ylabel('Actual')\n",
    "    plt.show()\n",
    "\n",
    "    print(\"=\"*50)"
   ]
  },
  {
   "cell_type": "markdown",
   "id": "3f5595c8",
   "metadata": {},
   "source": [
    "# Select Best Model"
   ]
  },
  {
   "cell_type": "code",
   "execution_count": 10,
   "id": "0080bea6",
   "metadata": {},
   "outputs": [
    {
     "name": "stdout",
     "output_type": "stream",
     "text": [
      "Classification Report :\n",
      "\n",
      "               precision    recall  f1-score   support\n",
      "\n",
      "contradiction       0.61      0.64      0.63       347\n",
      "   entailment       0.60      0.56      0.58       328\n",
      "\n",
      "     accuracy                           0.60       675\n",
      "    macro avg       0.60      0.60      0.60       675\n",
      " weighted avg       0.60      0.60      0.60       675\n",
      "\n",
      "Confusion Matrix for:\n",
      "\n",
      "[[223 124]\n",
      " [143 185]]\n"
     ]
    }
   ],
   "source": [
    "model = LogisticRegression()\n",
    "\n",
    "# Train the model\n",
    "model.fit(X_train_tfidf, y_train)\n",
    "\n",
    "# Make predictions\n",
    "y_pred = model.predict(X_test_tfidf)\n",
    "\n",
    "# Print classification report\n",
    "print(f\"Classification Report :\\n\")\n",
    "print(classification_report(y_test, y_pred))\n",
    "\n",
    "# Print confusion matrix\n",
    "print(f\"Confusion Matrix for:\\n\")\n",
    "cm = confusion_matrix(y_test, y_pred)\n",
    "print(cm)"
   ]
  },
  {
   "cell_type": "markdown",
   "id": "d2977882",
   "metadata": {},
   "source": [
    "# Detection System"
   ]
  },
  {
   "cell_type": "code",
   "execution_count": 11,
   "id": "2eb26324",
   "metadata": {},
   "outputs": [
    {
     "name": "stdout",
     "output_type": "stream",
     "text": [
      "contradiction\n"
     ]
    }
   ],
   "source": [
    "def detect(inp1, inp2, model, tfidf):\n",
    "    \n",
    "    # Combine the input sentences as required by the model\n",
    "    combined_input = inp1 + \" \" + inp2  \n",
    "    \n",
    "    combined_input = combined_input.lower()\n",
    "    \n",
    "    # Transform the combined input using the TF-IDF vectorizer\n",
    "    transformed_input = tfidf.transform([combined_input])\n",
    "    \n",
    "    # Make prediction using the model\n",
    "    prediction = model.predict(transformed_input)\n",
    "    \n",
    "    \n",
    "    return prediction[0]\n",
    "\n",
    "# Example inputs\n",
    "inp1 = \"A man is playing a guitar.\"\n",
    "inp2 = \"A man is making music.\"\n",
    "\n",
    "prediction = detect(inp1, inp2, model, tfidf)\n",
    "print(prediction) \n"
   ]
  },
  {
   "cell_type": "code",
   "execution_count": 12,
   "id": "b7ba5dac",
   "metadata": {},
   "outputs": [
    {
     "name": "stdout",
     "output_type": "stream",
     "text": [
      "contradiction\n"
     ]
    }
   ],
   "source": [
    "inp1 = \"A man is playing a guitar.\"\n",
    "inp2 = \"A man is riding a bike.\"\n",
    "\n",
    "prediction = detect(inp1, inp2, model, tfidf)\n",
    "print(prediction)  # Expected output: \"contradiction\"\n"
   ]
  },
  {
   "cell_type": "code",
   "execution_count": 13,
   "id": "162d1d2f",
   "metadata": {},
   "outputs": [
    {
     "name": "stdout",
     "output_type": "stream",
     "text": [
      "Prediction: entailment\n"
     ]
    }
   ],
   "source": [
    "inp1 = \"Two people are having a conversation.\"\n",
    "inp2 = \"Two people are talking to each other.\"\n",
    "\n",
    "prediction = detect(inp1, inp2, model, tfidf)\n",
    "print(f\"Prediction: {prediction}\")  # Expected output: \"entailment\"\n"
   ]
  },
  {
   "cell_type": "code",
   "execution_count": 14,
   "id": "bf4b11ff",
   "metadata": {},
   "outputs": [
    {
     "name": "stdout",
     "output_type": "stream",
     "text": [
      "Prediction: contradiction\n"
     ]
    }
   ],
   "source": [
    "inp1 = \"The dog is running in the park.\"\n",
    "inp2 = \"The dog is playing in the yard.\"\n",
    "\n",
    "prediction = detect(inp1, inp2, model, tfidf)\n",
    "print(f\"Prediction: {prediction}\") \n"
   ]
  },
  {
   "cell_type": "code",
   "execution_count": 15,
   "id": "dea79950",
   "metadata": {},
   "outputs": [
    {
     "name": "stdout",
     "output_type": "stream",
     "text": [
      "Prediction: entailment\n"
     ]
    }
   ],
   "source": [
    "inp1 = \"A woman is jogging in the park.\"\n",
    "inp2 = \"A woman is running outside.\"\n",
    "\n",
    "prediction = detect(inp1, inp2, model, tfidf)\n",
    "print(f\"Prediction: {prediction}\")  # Expected output: \"entailment\"\n"
   ]
  },
  {
   "cell_type": "markdown",
   "id": "c6b489b9",
   "metadata": {},
   "source": [
    "# Save Files"
   ]
  },
  {
   "cell_type": "code",
   "execution_count": 16,
   "id": "767e9aa4",
   "metadata": {},
   "outputs": [],
   "source": [
    "import pickle\n",
    "\n",
    "pickle.dump(model,open(\"models/model.pkl\",'wb'))\n",
    "pickle.dump(tfidf,open(\"models/tfidf.pkl\",'wb'))"
   ]
  },
  {
   "cell_type": "code",
   "execution_count": 17,
   "id": "09751d49",
   "metadata": {},
   "outputs": [
    {
     "data": {
      "text/plain": [
       "'1.4.2'"
      ]
     },
     "execution_count": 17,
     "metadata": {},
     "output_type": "execute_result"
    }
   ],
   "source": [
    "import sklearn\n",
    "sklearn.__version__"
   ]
  },
  {
   "cell_type": "code",
   "execution_count": null,
   "id": "577bd132",
   "metadata": {},
   "outputs": [],
   "source": []
  }
 ],
 "metadata": {
  "kernelspec": {
   "display_name": "Python 3 (ipykernel)",
   "language": "python",
   "name": "python3"
  },
  "language_info": {
   "codemirror_mode": {
    "name": "ipython",
    "version": 3
   },
   "file_extension": ".py",
   "mimetype": "text/x-python",
   "name": "python",
   "nbconvert_exporter": "python",
   "pygments_lexer": "ipython3",
   "version": "3.9.12"
  }
 },
 "nbformat": 4,
 "nbformat_minor": 5
}
