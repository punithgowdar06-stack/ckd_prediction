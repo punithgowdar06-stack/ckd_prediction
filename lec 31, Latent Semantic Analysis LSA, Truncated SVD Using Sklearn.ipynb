{
 "cells": [
  {
   "cell_type": "markdown",
   "id": "9d2bab1a",
   "metadata": {},
   "source": [
    "# TruncatedSVD (LSA)\n",
    "\n",
    "\n",
    "TruncatedSVD reduces high-dimensional TF-IDF vectors to low-dimensional semantic concepts.\n",
    "\n",
    "Useful for: Clustering, visualization, topic modeling, and more.\n",
    "\n",
    "\n",
    "\n",
    "\n",
    "\n",
    "# Imports"
   ]
  },
  {
   "cell_type": "code",
   "execution_count": 3,
   "id": "3cf15a81",
   "metadata": {},
   "outputs": [],
   "source": [
    "import pandas as pd\n",
    "from sklearn.feature_extraction.text import TfidfVectorizer\n",
    "from sklearn.decomposition import TruncatedSVD"
   ]
  },
  {
   "cell_type": "markdown",
   "id": "157137c9",
   "metadata": {},
   "source": [
    "# Dummy Datasets"
   ]
  },
  {
   "cell_type": "code",
   "execution_count": 4,
   "id": "0e3b3744",
   "metadata": {},
   "outputs": [
    {
     "data": {
      "text/plain": [
       "['Machine learning is amazing',\n",
       " 'Deep learning and neural networks are part of machine learning',\n",
       " 'Natural language processing uses machine learning techniques',\n",
       " 'AI includes machine learning and deep learning',\n",
       " 'Language models are used in NLP',\n",
       " 'NLP stands for natural language processing',\n",
       " 'Transformers are powerful models for NLP',\n",
       " 'Deep learning is a subfield of machine learning',\n",
       " 'AI is the future of technology',\n",
       " 'Technology is evolving with AI and ML']"
      ]
     },
     "execution_count": 4,
     "metadata": {},
     "output_type": "execute_result"
    }
   ],
   "source": [
    "documents = [\n",
    "    \"Machine learning is amazing\",\n",
    "    \"Deep learning and neural networks are part of machine learning\",\n",
    "    \"Natural language processing uses machine learning techniques\",\n",
    "    \"AI includes machine learning and deep learning\",\n",
    "    \"Language models are used in NLP\",\n",
    "    \"NLP stands for natural language processing\",\n",
    "    \"Transformers are powerful models for NLP\",\n",
    "    \"Deep learning is a subfield of machine learning\",\n",
    "    \"AI is the future of technology\",\n",
    "    \"Technology is evolving with AI and ML\"\n",
    "]\n",
    "documents"
   ]
  },
  {
   "cell_type": "markdown",
   "id": "2ec695e6",
   "metadata": {},
   "source": [
    "# Vectorization"
   ]
  },
  {
   "cell_type": "code",
   "execution_count": 5,
   "id": "2d5e0e95",
   "metadata": {},
   "outputs": [],
   "source": [
    "vectorizer = TfidfVectorizer(stop_words='english')\n",
    "X_tfidf = vectorizer.fit_transform(documents)"
   ]
  },
  {
   "cell_type": "markdown",
   "id": "9999f64e",
   "metadata": {},
   "source": [
    "# Apply TruncatedSVD (LSA)"
   ]
  },
  {
   "cell_type": "code",
   "execution_count": 8,
   "id": "aca7c6e6",
   "metadata": {},
   "outputs": [],
   "source": [
    "# Reduce to 2 latent topics/components\n",
    "svd = TruncatedSVD(n_components=3)\n",
    "X_lsa = svd.fit_transform(X_tfidf)"
   ]
  },
  {
   "cell_type": "markdown",
   "id": "52d9d3e4",
   "metadata": {},
   "source": [
    "# Display Results"
   ]
  },
  {
   "cell_type": "code",
   "execution_count": 10,
   "id": "a105c970",
   "metadata": {},
   "outputs": [
    {
     "name": "stdout",
     "output_type": "stream",
     "text": [
      "\n",
      "Top terms in component 1:\n",
      "learning (0.7055)\n",
      "machine (0.4330)\n",
      "deep (0.3413)\n",
      "amazing (0.1853)\n",
      "subfield (0.1677)\n",
      "\n",
      "Top terms in component 2:\n",
      "nlp (0.4904)\n",
      "language (0.4465)\n",
      "models (0.3670)\n",
      "natural (0.2955)\n",
      "processing (0.2955)\n",
      "\n",
      "Top terms in component 3:\n",
      "technology (0.5796)\n",
      "ai (0.5412)\n",
      "future (0.3727)\n",
      "evolving (0.3091)\n",
      "ml (0.3091)\n"
     ]
    }
   ],
   "source": [
    "terms = vectorizer.get_feature_names_out()\n",
    "for i, comp in enumerate(svd.components_):\n",
    "    terms_in_comp = zip(terms, comp)\n",
    "    sorted_terms = sorted(terms_in_comp, key=lambda x: x[1], reverse=True)[:5]\n",
    "    print(f\"\\nTop terms in component {i + 1}:\")\n",
    "    for term, weight in sorted_terms:\n",
    "        print(f\"{term} ({weight:.4f})\")\n"
   ]
  },
  {
   "cell_type": "code",
   "execution_count": null,
   "id": "504da18d",
   "metadata": {},
   "outputs": [],
   "source": []
  }
 ],
 "metadata": {
  "kernelspec": {
   "display_name": "Python 3 (ipykernel)",
   "language": "python",
   "name": "python3"
  },
  "language_info": {
   "codemirror_mode": {
    "name": "ipython",
    "version": 3
   },
   "file_extension": ".py",
   "mimetype": "text/x-python",
   "name": "python",
   "nbconvert_exporter": "python",
   "pygments_lexer": "ipython3",
   "version": "3.9.12"
  }
 },
 "nbformat": 4,
 "nbformat_minor": 5
}
