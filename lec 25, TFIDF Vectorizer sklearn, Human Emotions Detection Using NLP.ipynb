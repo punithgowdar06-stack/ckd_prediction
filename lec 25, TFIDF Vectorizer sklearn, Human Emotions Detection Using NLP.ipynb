{
 "cells": [
  {
   "attachments": {
    "image.png": {
     "image/png": "[encoded data removed]"
    }
   },
   "cell_type": "markdown",
   "id": "c3af73c4",
   "metadata": {},
   "source": [
    "Dataset : https://www.kaggle.com/datasets/praveengovi/emotions-dataset-for-nlp?select=train.txt\n",
    "        \n",
    "\n",
    "# Text Transformation\n",
    "In NLP, converting text to numbers is done using techniques like Bag of Words (BoW), TF-IDF, or word embeddings (e.g., Word2Vec, GloVe). These methods transform words or documents into numeric vectors so machine learning models can process them.\n",
    "\n",
    "### 2. TFIDF: \n",
    "\n",
    "TF-IDF (Term Frequency–Inverse Document Frequency) is a technique to weigh the importance of words in a document relative to a corpus.\n",
    "It increases with word frequency in a document but decreases with frequency across all documents, reducing common word weight.\n",
    "This helps highlight unique, meaningful terms useful for NLP tasks like text classification or search.\n",
    "\n",
    "\n",
    "Example Sentence (document): Cat Sat Mat\n",
    "\n",
    "![image.png](attachment:image.png)"
   ]
  },
  {
   "cell_type": "markdown",
   "id": "9cdac64e",
   "metadata": {},
   "source": [
    "# Load Dataset"
   ]
  },
  {
   "cell_type": "code",
   "execution_count": 2,
   "id": "7cb31bbc",
   "metadata": {},
   "outputs": [
    {
     "data": {
      "text/html": [
       "<div>\n",
       "<style scoped>\n",
       "    .dataframe tbody tr th:only-of-type {\n",
       "        vertical-align: middle;\n",
       "    }\n",
       "\n",
       "    .dataframe tbody tr th {\n",
       "        vertical-align: top;\n",
       "    }\n",
       "\n",
       "    .dataframe thead th {\n",
       "        text-align: right;\n",
       "    }\n",
       "</style>\n",
       "<table border=\"1\" class=\"dataframe\">\n",
       "  <thead>\n",
       "    <tr style=\"text-align: right;\">\n",
       "      <th></th>\n",
       "      <th>Text</th>\n",
       "      <th>Emotion</th>\n",
       "    </tr>\n",
       "  </thead>\n",
       "  <tbody>\n",
       "    <tr>\n",
       "      <th>0</th>\n",
       "      <td>i didnt feel humiliated</td>\n",
       "      <td>sadness</td>\n",
       "    </tr>\n",
       "    <tr>\n",
       "      <th>1</th>\n",
       "      <td>i can go from feeling so hopeless to so damned...</td>\n",
       "      <td>sadness</td>\n",
       "    </tr>\n",
       "    <tr>\n",
       "      <th>2</th>\n",
       "      <td>im grabbing a minute to post i feel greedy wrong</td>\n",
       "      <td>anger</td>\n",
       "    </tr>\n",
       "    <tr>\n",
       "      <th>3</th>\n",
       "      <td>i am ever feeling nostalgic about the fireplac...</td>\n",
       "      <td>love</td>\n",
       "    </tr>\n",
       "    <tr>\n",
       "      <th>4</th>\n",
       "      <td>i am feeling grouchy</td>\n",
       "      <td>anger</td>\n",
       "    </tr>\n",
       "  </tbody>\n",
       "</table>\n",
       "</div>"
      ],
      "text/plain": [
       "                                                Text  Emotion\n",
       "0                            i didnt feel humiliated  sadness\n",
       "1  i can go from feeling so hopeless to so damned...  sadness\n",
       "2   im grabbing a minute to post i feel greedy wrong    anger\n",
       "3  i am ever feeling nostalgic about the fireplac...     love\n",
       "4                               i am feeling grouchy    anger"
      ]
     },
     "execution_count": 2,
     "metadata": {},
     "output_type": "execute_result"
    }
   ],
   "source": [
    "import pandas as pd\n",
    "\n",
    "# Load the dataset\n",
    "df = pd.read_csv('train.txt', sep=';', names=['Text', 'Emotion'],nrows=3000)\n",
    "\n",
    "df.head()\n"
   ]
  },
  {
   "cell_type": "code",
   "execution_count": 3,
   "id": "63a2c683",
   "metadata": {},
   "outputs": [
    {
     "data": {
      "text/plain": [
       "Emotion\n",
       "joy         1035\n",
       "sadness      847\n",
       "anger        415\n",
       "fear         341\n",
       "love         242\n",
       "surprise     120\n",
       "Name: count, dtype: int64"
      ]
     },
     "execution_count": 3,
     "metadata": {},
     "output_type": "execute_result"
    }
   ],
   "source": [
    "df['Emotion'].value_counts()"
   ]
  },
  {
   "cell_type": "markdown",
   "id": "e8fc6303",
   "metadata": {},
   "source": [
    "# Train Test Split"
   ]
  },
  {
   "cell_type": "code",
   "execution_count": 4,
   "id": "8ea5d117",
   "metadata": {},
   "outputs": [],
   "source": [
    "from sklearn.model_selection import train_test_split\n",
    "\n",
    "X = df['Text']  # text column\n",
    "y = df['Emotion']  # label column (must be dense, 1D)\n",
    "\n",
    "X_train, X_test, y_train, y_test = train_test_split(X,y,test_size=0.2, random_state=42)"
   ]
  },
  {
   "cell_type": "markdown",
   "id": "2c49568f",
   "metadata": {},
   "source": [
    "# Feature Extraction (Transformmation) Using TFIDF\n",
    "\n",
    "\n",
    "ngram_range\t(1,2) includes unigrams and bigrams.\n",
    "\n",
    "max_features\tLimits vocabulary to top 1000 terms by TF-IDF score.\n",
    "\n",
    "stop_words\tRemoves common English words like \"the\", \"is\", \"and\", etc.\n",
    "\n",
    "lowercase\tConverts all text to lowercase before tokenizing.\n",
    "\n",
    "min_df\tIgnores words that appear in fewer than 2 documents (filters rare terms)."
   ]
  },
  {
   "cell_type": "code",
   "execution_count": 5,
   "id": "3efa9e33",
   "metadata": {},
   "outputs": [],
   "source": [
    "from sklearn.feature_extraction.text import TfidfVectorizer\n",
    "\n",
    "vectorizer = TfidfVectorizer(ngram_range=(1,2), max_features=1000, stop_words='english', lowercase=True, min_df=2)\n",
    "\n",
    "\n",
    "X_train_tfidf = vectorizer.fit_transform(X_train)\n",
    "X_test_tfidf = vectorizer.transform(X_test)"
   ]
  },
  {
   "cell_type": "code",
   "execution_count": 6,
   "id": "01e53c28",
   "metadata": {},
   "outputs": [
    {
     "data": {
      "text/plain": [
       "array([[0.        , 0.        , 0.        , ..., 0.        , 0.        ,\n",
       "        0.        ],\n",
       "       [0.        , 0.        , 0.        , ..., 0.        , 0.        ,\n",
       "        0.        ],\n",
       "       [0.44477778, 0.        , 0.        , ..., 0.        , 0.        ,\n",
       "        0.        ],\n",
       "       ...,\n",
       "       [0.        , 0.        , 0.        , ..., 0.        , 0.        ,\n",
       "        0.        ],\n",
       "       [0.        , 0.        , 0.        , ..., 0.        , 0.        ,\n",
       "        0.        ],\n",
       "       [0.        , 0.        , 0.        , ..., 0.        , 0.        ,\n",
       "        0.        ]])"
      ]
     },
     "execution_count": 6,
     "metadata": {},
     "output_type": "execute_result"
    }
   ],
   "source": [
    "X_test_tfidf.toarray()"
   ]
  },
  {
   "cell_type": "markdown",
   "id": "3a057a89",
   "metadata": {},
   "source": [
    "# Model Training and Evaluation"
   ]
  },
  {
   "cell_type": "code",
   "execution_count": 8,
   "id": "dccd729e",
   "metadata": {},
   "outputs": [
    {
     "name": "stdout",
     "output_type": "stream",
     "text": [
      "              precision    recall  f1-score   support\n",
      "\n",
      "       anger       0.91      0.59      0.71        87\n",
      "        fear       0.94      0.48      0.63        65\n",
      "         joy       0.68      0.95      0.79       206\n",
      "        love       0.88      0.30      0.44        47\n",
      "     sadness       0.75      0.88      0.81       176\n",
      "    surprise       0.75      0.16      0.26        19\n",
      "\n",
      "    accuracy                           0.75       600\n",
      "   macro avg       0.82      0.56      0.61       600\n",
      "weighted avg       0.78      0.75      0.72       600\n",
      "\n",
      "[[ 51   0  23   0  13   0]\n",
      " [  2  31  14   0  18   0]\n",
      " [  0   1 195   1   9   0]\n",
      " [  1   0  26  14   6   0]\n",
      " [  2   1  17   1 154   1]\n",
      " [  0   0  10   0   6   3]]\n"
     ]
    }
   ],
   "source": [
    "from sklearn.linear_model import LogisticRegression\n",
    "from sklearn.metrics import classification_report, confusion_matrix\n",
    "\n",
    "# Train the model correctly\n",
    "model = LogisticRegression()\n",
    "model.fit(X_train_tfidf, y_train)  # Fixed here\n",
    "\n",
    "# Predict on test data\n",
    "y_pred = model.predict(X_test_tfidf)\n",
    "\n",
    "# Evaluate performance\n",
    "print(classification_report(y_test, y_pred))\n",
    "print(confusion_matrix(y_test, y_pred))\n"
   ]
  },
  {
   "cell_type": "code",
   "execution_count": null,
   "id": "a6cf61d5",
   "metadata": {},
   "outputs": [],
   "source": []
  }
 ],
 "metadata": {
  "kernelspec": {
   "display_name": "Python 3 (ipykernel)",
   "language": "python",
   "name": "python3"
  },
  "language_info": {
   "codemirror_mode": {
    "name": "ipython",
    "version": 3
   },
   "file_extension": ".py",
   "mimetype": "text/x-python",
   "name": "python",
   "nbconvert_exporter": "python",
   "pygments_lexer": "ipython3",
   "version": "3.9.12"
  }
 },
 "nbformat": 4,
 "nbformat_minor": 5
}
