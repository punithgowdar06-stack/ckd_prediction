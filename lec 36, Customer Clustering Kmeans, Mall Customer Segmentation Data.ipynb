{
 "cells": [
  {
   "attachments": {
    "image.png": {
     "image/png": "[encoded data removed]"
    }
   },
   "cell_type": "markdown",
   "id": "b1fcd18f",
   "metadata": {},
   "source": [
    "# Customer Segmenetation Using Kmeans (End to End Project)\n",
    "\n",
    "### Context\n",
    "\n",
    "This data set is created only for the learning purpose of the customer segmentation concepts , also known as market basket analysis . I will demonstrate this by using unsupervised ML technique (KMeans Clustering Algorithm) in the simplest form.\n",
    "\n",
    "### Content\n",
    "\n",
    "You are owing a supermarket mall and through membership cards , you have some basic data about your customers like Customer ID, age, gender, annual income and spending score.\n",
    "Spending Score is something you assign to the customer based on your defined parameters like customer behavior and purchasing data.\n",
    "\n",
    "### Problem Statement\n",
    "\n",
    "You own the mall and want to understand the customers like who can be easily converge [Target Customers] so that the sense can be given to marketing team and plan the strategy accordingly.\n",
    "\n",
    "Dataset: https://www.kaggle.com/datasets/vjchoudhary7/customer-segmentation-tutorial-in-python?utm_source=chatgpt.com\n",
    "\n",
    "\n",
    "### Outcome: \n",
    "\n",
    "![image.png](attachment:image.png)"
   ]
  },
  {
   "cell_type": "markdown",
   "id": "2b308437",
   "metadata": {},
   "source": [
    "# 1. Imports Tools"
   ]
  },
  {
   "cell_type": "code",
   "execution_count": 26,
   "id": "404f1203",
   "metadata": {},
   "outputs": [],
   "source": [
    "import pandas as pd \n",
    "import numpy as np \n",
    "\n",
    "\n",
    "from sklearn.cluster import KMeans\n",
    "from sklearn.metrics import silhouette_score, adjusted_rand_score\n",
    "\n",
    "import matplotlib.pyplot as plt"
   ]
  },
  {
   "cell_type": "markdown",
   "id": "2717cf4d",
   "metadata": {},
   "source": [
    "# 2. Load Mall Customer Dataset"
   ]
  },
  {
   "cell_type": "code",
   "execution_count": 27,
   "id": "4bda18e8",
   "metadata": {},
   "outputs": [
    {
     "data": {
      "text/html": [
       "<div>\n",
       "<style scoped>\n",
       "    .dataframe tbody tr th:only-of-type {\n",
       "        vertical-align: middle;\n",
       "    }\n",
       "\n",
       "    .dataframe tbody tr th {\n",
       "        vertical-align: top;\n",
       "    }\n",
       "\n",
       "    .dataframe thead th {\n",
       "        text-align: right;\n",
       "    }\n",
       "</style>\n",
       "<table border=\"1\" class=\"dataframe\">\n",
       "  <thead>\n",
       "    <tr style=\"text-align: right;\">\n",
       "      <th></th>\n",
       "      <th>CustomerID</th>\n",
       "      <th>Gender</th>\n",
       "      <th>Age</th>\n",
       "      <th>Annual Income (k$)</th>\n",
       "      <th>Spending Score (1-100)</th>\n",
       "    </tr>\n",
       "  </thead>\n",
       "  <tbody>\n",
       "    <tr>\n",
       "      <th>0</th>\n",
       "      <td>1</td>\n",
       "      <td>Male</td>\n",
       "      <td>19</td>\n",
       "      <td>15</td>\n",
       "      <td>39</td>\n",
       "    </tr>\n",
       "    <tr>\n",
       "      <th>1</th>\n",
       "      <td>2</td>\n",
       "      <td>Male</td>\n",
       "      <td>21</td>\n",
       "      <td>15</td>\n",
       "      <td>81</td>\n",
       "    </tr>\n",
       "    <tr>\n",
       "      <th>2</th>\n",
       "      <td>3</td>\n",
       "      <td>Female</td>\n",
       "      <td>20</td>\n",
       "      <td>16</td>\n",
       "      <td>6</td>\n",
       "    </tr>\n",
       "    <tr>\n",
       "      <th>3</th>\n",
       "      <td>4</td>\n",
       "      <td>Female</td>\n",
       "      <td>23</td>\n",
       "      <td>16</td>\n",
       "      <td>77</td>\n",
       "    </tr>\n",
       "    <tr>\n",
       "      <th>4</th>\n",
       "      <td>5</td>\n",
       "      <td>Female</td>\n",
       "      <td>31</td>\n",
       "      <td>17</td>\n",
       "      <td>40</td>\n",
       "    </tr>\n",
       "  </tbody>\n",
       "</table>\n",
       "</div>"
      ],
      "text/plain": [
       "   CustomerID  Gender  Age  Annual Income (k$)  Spending Score (1-100)\n",
       "0           1    Male   19                  15                      39\n",
       "1           2    Male   21                  15                      81\n",
       "2           3  Female   20                  16                       6\n",
       "3           4  Female   23                  16                      77\n",
       "4           5  Female   31                  17                      40"
      ]
     },
     "execution_count": 27,
     "metadata": {},
     "output_type": "execute_result"
    }
   ],
   "source": [
    "df = pd.read_csv(\"Mall_Customers.csv\")\n",
    "df.head()"
   ]
  },
  {
   "cell_type": "markdown",
   "id": "68eb2b3d",
   "metadata": {},
   "source": [
    "# 3. Data Preprocessing"
   ]
  },
  {
   "cell_type": "code",
   "execution_count": 28,
   "id": "59facd12",
   "metadata": {},
   "outputs": [
    {
     "data": {
      "text/html": [
       "<div>\n",
       "<style scoped>\n",
       "    .dataframe tbody tr th:only-of-type {\n",
       "        vertical-align: middle;\n",
       "    }\n",
       "\n",
       "    .dataframe tbody tr th {\n",
       "        vertical-align: top;\n",
       "    }\n",
       "\n",
       "    .dataframe thead th {\n",
       "        text-align: right;\n",
       "    }\n",
       "</style>\n",
       "<table border=\"1\" class=\"dataframe\">\n",
       "  <thead>\n",
       "    <tr style=\"text-align: right;\">\n",
       "      <th></th>\n",
       "      <th>Gender</th>\n",
       "      <th>Age</th>\n",
       "      <th>Annual Income (k$)</th>\n",
       "      <th>Spending Score (1-100)</th>\n",
       "    </tr>\n",
       "  </thead>\n",
       "  <tbody>\n",
       "    <tr>\n",
       "      <th>0</th>\n",
       "      <td>1</td>\n",
       "      <td>19</td>\n",
       "      <td>15</td>\n",
       "      <td>39</td>\n",
       "    </tr>\n",
       "    <tr>\n",
       "      <th>1</th>\n",
       "      <td>1</td>\n",
       "      <td>21</td>\n",
       "      <td>15</td>\n",
       "      <td>81</td>\n",
       "    </tr>\n",
       "    <tr>\n",
       "      <th>2</th>\n",
       "      <td>0</td>\n",
       "      <td>20</td>\n",
       "      <td>16</td>\n",
       "      <td>6</td>\n",
       "    </tr>\n",
       "    <tr>\n",
       "      <th>3</th>\n",
       "      <td>0</td>\n",
       "      <td>23</td>\n",
       "      <td>16</td>\n",
       "      <td>77</td>\n",
       "    </tr>\n",
       "    <tr>\n",
       "      <th>4</th>\n",
       "      <td>0</td>\n",
       "      <td>31</td>\n",
       "      <td>17</td>\n",
       "      <td>40</td>\n",
       "    </tr>\n",
       "  </tbody>\n",
       "</table>\n",
       "</div>"
      ],
      "text/plain": [
       "   Gender  Age  Annual Income (k$)  Spending Score (1-100)\n",
       "0       1   19                  15                      39\n",
       "1       1   21                  15                      81\n",
       "2       0   20                  16                       6\n",
       "3       0   23                  16                      77\n",
       "4       0   31                  17                      40"
      ]
     },
     "execution_count": 28,
     "metadata": {},
     "output_type": "execute_result"
    }
   ],
   "source": [
    "df['Gender'] = df['Gender'].map({'Male':1, 'Female':0})\n",
    "df.drop(columns=['CustomerID'],axis=1,inplace=True)\n",
    "df.head()"
   ]
  },
  {
   "cell_type": "markdown",
   "id": "5cb8bc29",
   "metadata": {},
   "source": [
    "# 4. Apply KMeans"
   ]
  },
  {
   "cell_type": "markdown",
   "id": "13917d1c",
   "metadata": {},
   "source": [
    "#### 4.1 Elbo Method"
   ]
  },
  {
   "cell_type": "code",
   "execution_count": 29,
   "id": "bb7f7e42",
   "metadata": {},
   "outputs": [
    {
     "data": {
      "image/png": "[encoded data removed]",
      "text/plain": [
       "<Figure size 432x288 with 1 Axes>"
      ]
     },
     "metadata": {
      "needs_background": "light"
     },
     "output_type": "display_data"
    }
   ],
   "source": [
    "sse = []\n",
    "k_range = range(1,10)\n",
    "\n",
    "for k in k_range:\n",
    "    kmeans = KMeans(n_clusters=k, random_state=42)\n",
    "    kmeans.fit(df)\n",
    "    sse.append(kmeans.inertia_)\n",
    "    \n",
    "# Plot the elbow curve\n",
    "plt.plot(k_range, sse, marker='o')\n",
    "plt.xlabel('Number of Clusters')\n",
    "plt.ylabel('Sum of Squared Distances (SSE)')\n",
    "plt.title('Elbow Method For Optimal K')\n",
    "plt.show()"
   ]
  },
  {
   "cell_type": "markdown",
   "id": "240924f8",
   "metadata": {},
   "source": [
    "# 4.2 Apply K means with 3 cluster"
   ]
  },
  {
   "cell_type": "code",
   "execution_count": 30,
   "id": "7e12eb7e",
   "metadata": {},
   "outputs": [],
   "source": [
    "kmeans = KMeans(n_clusters=3, random_state=42)\n",
    "\n",
    "df['cluster'] = kmeans.fit_predict(df)"
   ]
  },
  {
   "cell_type": "markdown",
   "id": "0cde2476",
   "metadata": {},
   "source": [
    "# 5. Generate Cluster Names"
   ]
  },
  {
   "cell_type": "code",
   "execution_count": 31,
   "id": "9b62e670",
   "metadata": {},
   "outputs": [
    {
     "data": {
      "text/html": [
       "<div>\n",
       "<style scoped>\n",
       "    .dataframe tbody tr th:only-of-type {\n",
       "        vertical-align: middle;\n",
       "    }\n",
       "\n",
       "    .dataframe tbody tr th {\n",
       "        vertical-align: top;\n",
       "    }\n",
       "\n",
       "    .dataframe thead th {\n",
       "        text-align: right;\n",
       "    }\n",
       "</style>\n",
       "<table border=\"1\" class=\"dataframe\">\n",
       "  <thead>\n",
       "    <tr style=\"text-align: right;\">\n",
       "      <th></th>\n",
       "      <th>Gender</th>\n",
       "      <th>Age</th>\n",
       "      <th>Annual Income (k$)</th>\n",
       "      <th>Spending Score (1-100)</th>\n",
       "      <th>cluster</th>\n",
       "      <th>Segment</th>\n",
       "    </tr>\n",
       "  </thead>\n",
       "  <tbody>\n",
       "    <tr>\n",
       "      <th>0</th>\n",
       "      <td>1</td>\n",
       "      <td>19</td>\n",
       "      <td>15</td>\n",
       "      <td>39</td>\n",
       "      <td>2</td>\n",
       "      <td>Young Low Income – High Spending</td>\n",
       "    </tr>\n",
       "    <tr>\n",
       "      <th>1</th>\n",
       "      <td>1</td>\n",
       "      <td>21</td>\n",
       "      <td>15</td>\n",
       "      <td>81</td>\n",
       "      <td>2</td>\n",
       "      <td>Young Low Income – High Spending</td>\n",
       "    </tr>\n",
       "    <tr>\n",
       "      <th>2</th>\n",
       "      <td>0</td>\n",
       "      <td>20</td>\n",
       "      <td>16</td>\n",
       "      <td>6</td>\n",
       "      <td>0</td>\n",
       "      <td>Low Income – Low Spending</td>\n",
       "    </tr>\n",
       "    <tr>\n",
       "      <th>3</th>\n",
       "      <td>0</td>\n",
       "      <td>23</td>\n",
       "      <td>16</td>\n",
       "      <td>77</td>\n",
       "      <td>2</td>\n",
       "      <td>Young Low Income – High Spending</td>\n",
       "    </tr>\n",
       "    <tr>\n",
       "      <th>4</th>\n",
       "      <td>0</td>\n",
       "      <td>31</td>\n",
       "      <td>17</td>\n",
       "      <td>40</td>\n",
       "      <td>2</td>\n",
       "      <td>Young Low Income – High Spending</td>\n",
       "    </tr>\n",
       "    <tr>\n",
       "      <th>...</th>\n",
       "      <td>...</td>\n",
       "      <td>...</td>\n",
       "      <td>...</td>\n",
       "      <td>...</td>\n",
       "      <td>...</td>\n",
       "      <td>...</td>\n",
       "    </tr>\n",
       "    <tr>\n",
       "      <th>195</th>\n",
       "      <td>0</td>\n",
       "      <td>35</td>\n",
       "      <td>120</td>\n",
       "      <td>79</td>\n",
       "      <td>1</td>\n",
       "      <td>High Income – High Spending</td>\n",
       "    </tr>\n",
       "    <tr>\n",
       "      <th>196</th>\n",
       "      <td>0</td>\n",
       "      <td>45</td>\n",
       "      <td>126</td>\n",
       "      <td>28</td>\n",
       "      <td>1</td>\n",
       "      <td>High Income – High Spending</td>\n",
       "    </tr>\n",
       "    <tr>\n",
       "      <th>197</th>\n",
       "      <td>1</td>\n",
       "      <td>32</td>\n",
       "      <td>126</td>\n",
       "      <td>74</td>\n",
       "      <td>1</td>\n",
       "      <td>High Income – High Spending</td>\n",
       "    </tr>\n",
       "    <tr>\n",
       "      <th>198</th>\n",
       "      <td>1</td>\n",
       "      <td>32</td>\n",
       "      <td>137</td>\n",
       "      <td>18</td>\n",
       "      <td>1</td>\n",
       "      <td>High Income – High Spending</td>\n",
       "    </tr>\n",
       "    <tr>\n",
       "      <th>199</th>\n",
       "      <td>1</td>\n",
       "      <td>30</td>\n",
       "      <td>137</td>\n",
       "      <td>83</td>\n",
       "      <td>1</td>\n",
       "      <td>High Income – High Spending</td>\n",
       "    </tr>\n",
       "  </tbody>\n",
       "</table>\n",
       "<p>200 rows × 6 columns</p>\n",
       "</div>"
      ],
      "text/plain": [
       "     Gender  Age  Annual Income (k$)  Spending Score (1-100)  cluster  \\\n",
       "0         1   19                  15                      39        2   \n",
       "1         1   21                  15                      81        2   \n",
       "2         0   20                  16                       6        0   \n",
       "3         0   23                  16                      77        2   \n",
       "4         0   31                  17                      40        2   \n",
       "..      ...  ...                 ...                     ...      ...   \n",
       "195       0   35                 120                      79        1   \n",
       "196       0   45                 126                      28        1   \n",
       "197       1   32                 126                      74        1   \n",
       "198       1   32                 137                      18        1   \n",
       "199       1   30                 137                      83        1   \n",
       "\n",
       "                              Segment  \n",
       "0    Young Low Income – High Spending  \n",
       "1    Young Low Income – High Spending  \n",
       "2           Low Income – Low Spending  \n",
       "3    Young Low Income – High Spending  \n",
       "4    Young Low Income – High Spending  \n",
       "..                                ...  \n",
       "195       High Income – High Spending  \n",
       "196       High Income – High Spending  \n",
       "197       High Income – High Spending  \n",
       "198       High Income – High Spending  \n",
       "199       High Income – High Spending  \n",
       "\n",
       "[200 rows x 6 columns]"
      ]
     },
     "execution_count": 31,
     "metadata": {},
     "output_type": "execute_result"
    }
   ],
   "source": [
    "cluster_labels = {\n",
    "    0: \"Low Income – Low Spending\",\n",
    "    1: \"High Income – High Spending\",\n",
    "    2: \"Young Low Income – High Spending\"\n",
    "}\n",
    "\n",
    "df['Segment'] = df['cluster'].map(cluster_labels)\n",
    "df"
   ]
  },
  {
   "cell_type": "markdown",
   "id": "91dbf06a",
   "metadata": {},
   "source": [
    "# 5. Visualize Clusters"
   ]
  },
  {
   "cell_type": "code",
   "execution_count": 33,
   "id": "64dc6509",
   "metadata": {},
   "outputs": [
    {
     "data": {
      "image/png": "[encoded data removed]",
      "text/plain": [
       "<Figure size 576x432 with 1 Axes>"
      ]
     },
     "metadata": {
      "needs_background": "light"
     },
     "output_type": "display_data"
    }
   ],
   "source": [
    "# Simple scatter plot\n",
    "plt.figure(figsize=(8, 6))\n",
    "for cluster in df['cluster'].unique():\n",
    "    clustered = df[df['cluster'] == cluster]\n",
    "    plt.scatter(clustered['Annual Income (k$)'], clustered['Spending Score (1-100)'], label=f'Cluster {cluster}')\n",
    "\n",
    "plt.xlabel('Annual Income (k$)')\n",
    "plt.ylabel('Spending Score (1-100)')\n",
    "plt.title('Customer Segmentation - KMeans Clusters')\n",
    "plt.legend()\n",
    "plt.grid(True)\n",
    "plt.show()"
   ]
  },
  {
   "cell_type": "markdown",
   "id": "d7604eae",
   "metadata": {},
   "source": [
    "# 6. Evaluate Kmeans"
   ]
  },
  {
   "cell_type": "code",
   "execution_count": 39,
   "id": "941c7289",
   "metadata": {},
   "outputs": [
    {
     "name": "stdout",
     "output_type": "stream",
     "text": [
      "Silhouette Score: 0.34\n"
     ]
    }
   ],
   "source": [
    "# Using silhouette score (measures how similar a point is to its own cluster compared to other clusters)\n",
    "features = df[['Gender','Age','Annual Income (k$)','Spending Score (1-100)']]\n",
    "\n",
    "silhouette_avg = silhouette_score(features, df['cluster'])\n",
    "print(f'Silhouette Score: {silhouette_avg:.2f}')"
   ]
  },
  {
   "cell_type": "markdown",
   "id": "19e5f27f",
   "metadata": {},
   "source": [
    "# 7. Save and Load trained Kmeans"
   ]
  },
  {
   "cell_type": "code",
   "execution_count": 40,
   "id": "b710a35e",
   "metadata": {},
   "outputs": [],
   "source": [
    "import pickle\n",
    "\n",
    "pickle.dump(kmeans,open(\"kmeans.pkl\",'wb'))\n",
    "kmeans = pickle.load(open(\"kmeans.pkl\",'rb'))"
   ]
  },
  {
   "cell_type": "markdown",
   "id": "2a15aad4",
   "metadata": {},
   "source": [
    "# 8. Real-time Customer Segmentation Function"
   ]
  },
  {
   "cell_type": "code",
   "execution_count": 42,
   "id": "34fb2433",
   "metadata": {},
   "outputs": [],
   "source": [
    "# Define cluster labels\n",
    "cluster_labels = {\n",
    "    0: \"Low Income – Low Spending\",\n",
    "    1: \"High Income – High Spending\",\n",
    "    2: \"Young Low Income – High Spending\"\n",
    "}\n",
    "\n",
    "# Function to predict customer segment\n",
    "def predict_customer_segment(gender, age, income, spending_score):\n",
    "    # Prepare input as a NumPy array\n",
    "    new_data = np.array([[gender, age, income, spending_score]])\n",
    "    \n",
    "    # Predict cluster\n",
    "    cluster = kmeans.predict(new_data)[0]\n",
    "    \n",
    "    # Map to segment\n",
    "    segment = cluster_labels.get(cluster, \"Unknown Segment\")\n",
    "    \n",
    "    # Print result\n",
    "    print(f\"Predicted Cluster: {cluster}\")\n",
    "    print(f\"Customer Segment: {segment}\")"
   ]
  },
  {
   "cell_type": "code",
   "execution_count": 43,
   "id": "711b9250",
   "metadata": {},
   "outputs": [
    {
     "name": "stdout",
     "output_type": "stream",
     "text": [
      "Predicted Cluster: 2\n",
      "Customer Segment: Young Low Income – High Spending\n"
     ]
    },
    {
     "name": "stderr",
     "output_type": "stream",
     "text": [
      "C:\\Users\\Noor Saeed\\anaconda3\\lib\\site-packages\\sklearn\\base.py:493: UserWarning: X does not have valid feature names, but KMeans was fitted with feature names\n",
      "  warnings.warn(\n"
     ]
    }
   ],
   "source": [
    "# Example usage\n",
    "predict_customer_segment(gender=1, age=28, income=50, spending_score=60)"
   ]
  },
  {
   "cell_type": "code",
   "execution_count": 44,
   "id": "8826c13c",
   "metadata": {},
   "outputs": [
    {
     "name": "stdout",
     "output_type": "stream",
     "text": [
      "Predicted Cluster: 0\n",
      "Customer Segment: Low Income – Low Spending\n"
     ]
    },
    {
     "name": "stderr",
     "output_type": "stream",
     "text": [
      "C:\\Users\\Noor Saeed\\anaconda3\\lib\\site-packages\\sklearn\\base.py:493: UserWarning: X does not have valid feature names, but KMeans was fitted with feature names\n",
      "  warnings.warn(\n"
     ]
    }
   ],
   "source": [
    "# Example usage\n",
    "predict_customer_segment(gender=0, age=15, income=20, spending_score=10)"
   ]
  },
  {
   "cell_type": "code",
   "execution_count": null,
   "id": "ba6cf7d2",
   "metadata": {},
   "outputs": [],
   "source": []
  }
 ],
 "metadata": {
  "kernelspec": {
   "display_name": "Python 3 (ipykernel)",
   "language": "python",
   "name": "python3"
  },
  "language_info": {
   "codemirror_mode": {
    "name": "ipython",
    "version": 3
   },
   "file_extension": ".py",
   "mimetype": "text/x-python",
   "name": "python",
   "nbconvert_exporter": "python",
   "pygments_lexer": "ipython3",
   "version": "3.9.12"
  }
 },
 "nbformat": 4,
 "nbformat_minor": 5
}
